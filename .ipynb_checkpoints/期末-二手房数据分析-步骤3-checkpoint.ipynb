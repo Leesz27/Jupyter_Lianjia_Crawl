{
 "cells": [
  {
   "cell_type": "markdown",
   "metadata": {},
   "source": [
    "## 第二步，广州二手房数据清洗"
   ]
  },
  {
   "cell_type": "code",
   "execution_count": 1,
   "metadata": {},
   "outputs": [],
   "source": [
    "from pyecharts.globals import CurrentConfig, OnlineHostType\n",
    "OnlineHostType.NOTEBOOK_HOST='http://localhost:8888/nbextensions/assets/'\n",
    "CurrentConfig.ONLINE_HOST = OnlineHostType.NOTEBOOK_HOST\n",
    "\n",
    "import numpy as np \n",
    "import pandas as pd \n",
    "import matplotlib.pyplot as plt  #pandas自带的图形包\n",
    "import os\n",
    "from pyecharts.charts import Pie, Map, Bar, Line, Grid, Page, Funnel, Geo #插件可以绘制很酷炫的图形\n",
    "from pyecharts import options as opts \n",
    "from pyecharts.globals import ThemeType, ChartType, GeoType\n",
    "import xlwt, xlrd\n",
    "import csv\n",
    "\n",
    "# matplotlib可以正常显示汉字\n",
    "import matplotlib.pyplot as plt\n",
    "plt.rcParams['font.sans-serif'] = ['Arial Unicode MS'] # 用来正常显示中文标签\n",
    "plt.rcParams['axes.unicode_minus'] = False  # 用来正常显示负号"
   ]
  },
  {
   "cell_type": "code",
   "execution_count": null,
   "metadata": {
    "scrolled": false
   },
   "outputs": [],
   "source": [
    "# 导入写入的广州二手房数据\n",
    "df = pd.read_csv(r'./广州二手房源信息.csv')\n",
    "df"
   ]
  },
  {
   "cell_type": "code",
   "execution_count": null,
   "metadata": {},
   "outputs": [],
   "source": [
    "#加入区，方便后面数据处理\n",
    "df['region'] = df.region + \"区\"\n",
    "df"
   ]
  },
  {
   "cell_type": "code",
   "execution_count": null,
   "metadata": {},
   "outputs": [],
   "source": [
    "#对houseInfo进行数据处理\n",
    "df.houseInfo"
   ]
  },
  {
   "cell_type": "code",
   "execution_count": null,
   "metadata": {},
   "outputs": [],
   "source": [
    "#查询有多少车位信息\n",
    "df[df['houseInfo'].str.split('|').str[0].str.strip() == '车位']"
   ]
  },
  {
   "cell_type": "code",
   "execution_count": null,
   "metadata": {},
   "outputs": [],
   "source": [
    "#去除爬取到的车位的数据\n",
    "df = df.drop(index=(df.loc[(df['houseInfo'].str.split('|').str[0].str.strip() == '车位')].index))\n",
    "df"
   ]
  },
  {
   "cell_type": "code",
   "execution_count": null,
   "metadata": {},
   "outputs": [],
   "source": [
    "#对houseInfo列进行数据处理\n",
    "df.houseInfo"
   ]
  },
  {
   "cell_type": "code",
   "execution_count": null,
   "metadata": {},
   "outputs": [],
   "source": [
    "#获取楼盘户型\n",
    "df['Type'] = df['houseInfo'].str.split('|').str[0]\n",
    "df.Type"
   ]
  },
  {
   "cell_type": "code",
   "execution_count": null,
   "metadata": {},
   "outputs": [],
   "source": [
    "#获取建筑面积\n",
    "df['area'] = df['houseInfo'].str.split('|').str[1].str.extract(r'(\\d+.*\\d+)平米')\n",
    "df.area"
   ]
  },
  {
   "cell_type": "code",
   "execution_count": null,
   "metadata": {},
   "outputs": [],
   "source": [
    "#获取朝向\n",
    "df['direction'] = df['houseInfo'].str.split('|').str[2]\n",
    "df.direction"
   ]
  },
  {
   "cell_type": "code",
   "execution_count": null,
   "metadata": {},
   "outputs": [],
   "source": [
    "#获取装修类型\n",
    "df['dectype'] = df['houseInfo'].str.split('|').str[3]\n",
    "df.dectype"
   ]
  },
  {
   "cell_type": "code",
   "execution_count": null,
   "metadata": {},
   "outputs": [],
   "source": [
    "#获取楼层\n",
    "df['floor'] = df['houseInfo'].str.split('|').str[4]\n",
    "df.floor"
   ]
  },
  {
   "cell_type": "code",
   "execution_count": null,
   "metadata": {},
   "outputs": [],
   "source": [
    "#获取建筑年份\n",
    "df['year'] = df['houseInfo'].str.split('|').str[5].str.extract(r'(\\d+.)年建')\n",
    "df.year"
   ]
  },
  {
   "cell_type": "code",
   "execution_count": null,
   "metadata": {},
   "outputs": [],
   "source": [
    "#获取板塔\n",
    "df['banta'] = df['houseInfo'].str.split('|').str[-1]\n",
    "df.banta"
   ]
  },
  {
   "cell_type": "code",
   "execution_count": null,
   "metadata": {},
   "outputs": [],
   "source": [
    "#删除houseInfo列\n",
    "df = df.drop('houseInfo', axis = 1)\n",
    "df"
   ]
  },
  {
   "cell_type": "code",
   "execution_count": null,
   "metadata": {},
   "outputs": [],
   "source": [
    "#查看空值\n",
    "df.isnull().sum()"
   ]
  },
  {
   "cell_type": "code",
   "execution_count": null,
   "metadata": {},
   "outputs": [],
   "source": [
    "#删除空值\n",
    "df = df.dropna()\n",
    "df"
   ]
  },
  {
   "cell_type": "code",
   "execution_count": null,
   "metadata": {},
   "outputs": [],
   "source": [
    "#转换数据类型（总价和单价转换为float）其他转换为整型\n",
    "df['totalPrice'] = df['totalPrice'].astype('float')\n",
    "df['unitPrice'] = df['unitPrice'].astype('float')\n",
    "df['area'] = df['area'].astype('float')\n",
    "df['year'] = df['year'].astype('int')\n",
    "\n",
    "df.info()"
   ]
  },
  {
   "cell_type": "code",
   "execution_count": null,
   "metadata": {},
   "outputs": [],
   "source": [
    "#查看楼层信息\n",
    "df.floor"
   ]
  },
  {
   "cell_type": "code",
   "execution_count": null,
   "metadata": {},
   "outputs": [],
   "source": [
    "#将楼层列处理为：高层'、低层、中层、地下室'\n",
    "def transform_floor(x):\n",
    "    if x=='高楼层' or x=='顶层' or x=='上叠':\n",
    "        return '高层'\n",
    "    elif x=='低楼层' or x=='低层' or x=='下叠' or x=='1层' or x=='2层' or x=='3层':\n",
    "        return '低层'\n",
    "    elif x=='中楼层' or x=='4层' or x=='5层' or x=='6层':  \n",
    "         return '中层'\n",
    "    elif x=='地下室' : \n",
    "        return '地下室'\n",
    "    else:\n",
    "        return '高层'"
   ]
  },
  {
   "cell_type": "code",
   "execution_count": null,
   "metadata": {},
   "outputs": [],
   "source": [
    "#将数据一般化\n",
    "df['floorType'] = df['floor'].str.replace(r'\\(.*?\\)','').str.strip()\n",
    "df['floorType'] = df.floor.apply(transform_floor)\n",
    "df = df.drop('floor',axis=1)\n",
    "df"
   ]
  },
  {
   "cell_type": "code",
   "execution_count": null,
   "metadata": {},
   "outputs": [],
   "source": [
    "#求楼龄\n",
    "df['buildyear'] = 2021 - df.year\n",
    "df.buildyear"
   ]
  },
  {
   "cell_type": "code",
   "execution_count": null,
   "metadata": {},
   "outputs": [],
   "source": [
    "#删除Unnamed: 0列\n",
    "df = df.drop('Unnamed: 0', axis = 1)\n",
    "df"
   ]
  },
  {
   "cell_type": "code",
   "execution_count": null,
   "metadata": {},
   "outputs": [],
   "source": [
    "#将信息保存到csv\n",
    "df.to_csv('广州二手房数据清洗结果.csv')"
   ]
  },
  {
   "cell_type": "code",
   "execution_count": null,
   "metadata": {},
   "outputs": [],
   "source": [
    "#将信息保存成xlsx格式，方便数据处理，整理小区经纬度。\n",
    "outputpath='./广州二手房数据清洗结果.xlsx'\n",
    "df.to_excel(outputpath,index=False, header=False) "
   ]
  },
  {
   "cell_type": "markdown",
   "metadata": {},
   "source": [
    "## 第三步：对清洗后的数据，进行可视化分析，探索隐藏在大量数据背后的规律，要有适当的文字说明，要求至少使用三种及以上的图。"
   ]
  },
  {
   "cell_type": "code",
   "execution_count": null,
   "metadata": {},
   "outputs": [],
   "source": [
    "#打开数据\n",
    "df_result = pd.read_csv(r'./广州二手房数据清洗结果.csv')\n",
    "df_result"
   ]
  },
  {
   "cell_type": "markdown",
   "metadata": {},
   "source": [
    "### 1.分析广州二手房价位"
   ]
  },
  {
   "cell_type": "code",
   "execution_count": null,
   "metadata": {},
   "outputs": [],
   "source": [
    "#设置分割点\n",
    "bins = [0, 300, 500, 800, 1000, 10000]\n",
    "bins_label = ['300万及以下', '300-500万', '500-800万', '800-1000万', '1000万及以上']\n",
    "\n",
    "#修改中文列名\n",
    "df_result = df_result.rename(columns = {'楼盘总价格（万）':'totalPrice'})\n",
    "df_result['pcut'] = pd.cut(df_result.totalPrice, bins, right = False, labels = bins_label)\n",
    "df_result"
   ]
  },
  {
   "cell_type": "code",
   "execution_count": null,
   "metadata": {},
   "outputs": [],
   "source": [
    "#对数据进行分组、统计、排序\n",
    "price_num = df_result['pcut'].value_counts()\n",
    "price_num"
   ]
  },
  {
   "cell_type": "code",
   "execution_count": null,
   "metadata": {},
   "outputs": [],
   "source": [
    "#转换为列表对值\n",
    "data_pair = [list(z) for z in zip(price_num.index.tolist(), price_num.values.tolist())]\n",
    "data_pair"
   ]
  },
  {
   "cell_type": "code",
   "execution_count": null,
   "metadata": {},
   "outputs": [],
   "source": [
    "#绘制饼图\n",
    "pie1 = Pie(init_opts=opts.InitOpts(width='800px', height='750px'))\n",
    "pie1.add('', data_pair=data_pair, radius=['30%', '60%'], rosetype='radius')\n",
    "pie1.set_global_opts(title_opts=opts.TitleOpts(title='广州二手房都处在哪些价位？'), \n",
    "                     legend_opts=opts.LegendOpts(orient='vertical', pos_top='15%', pos_left='2%'))\n",
    "pie1.set_series_opts(label_opts=opts.LabelOpts(formatter=\"{b}:{d}%\"))\n",
    "pie1.set_colors(['#FF7F0E', '#1F77B4', '#2CA02C', '#D62728', '#946C8B'])"
   ]
  },
  {
   "cell_type": "markdown",
   "metadata": {},
   "source": [
    "## 可以看出广州二手房一半以上都是300万以下的"
   ]
  },
  {
   "cell_type": "code",
   "execution_count": null,
   "metadata": {},
   "outputs": [],
   "source": [
    "#显示图形\n",
    "pie1.render_notebook()"
   ]
  },
  {
   "cell_type": "code",
   "execution_count": null,
   "metadata": {},
   "outputs": [],
   "source": [
    "#对房源区域数据进行分组、统计、排序\n",
    "region_num = df['region'].value_counts()\n",
    "region_num"
   ]
  },
  {
   "cell_type": "code",
   "execution_count": null,
   "metadata": {
    "scrolled": true
   },
   "outputs": [],
   "source": [
    "#转换为列表对象\n",
    "data_region_pair = [list(z) for z in zip(region_num.index.tolist(), region_num.values.tolist())]\n",
    "data_region_pair"
   ]
  },
  {
   "cell_type": "markdown",
   "metadata": {},
   "source": [
    "## 统计条形图，发现番禺区房源最高，南沙最少。"
   ]
  },
  {
   "cell_type": "code",
   "execution_count": null,
   "metadata": {},
   "outputs": [],
   "source": [
    "# 1.简单的条形图\n",
    "fig = plt.figure()\n",
    "\n",
    "plt.rcParams['font.sans-serif'] = ['SimHei']#SimHeri是中文字体名称\n",
    "plt.rcParams['axes.unicode_minus'] = False\n",
    "\n",
    "plt.title('广州区域房源数量条形图')\n",
    "plt.xlabel('房源区域',fontsize=18,color='red')\n",
    "plt.ylabel('房源数量',fontsize=18,color='red')\n",
    "\n",
    "x = region_num.index.tolist()\n",
    "y = region_num.values.tolist()\n",
    "\n",
    "rects = plt.bar(x, y)\n",
    "\n",
    "for rect in rects:\n",
    "    height = rect.get_height()\n",
    "    plt.text(rect.get_x() + rect.get_width() / 2, height+20, str(height), ha=\"center\", va=\"bottom\")\n",
    "\n",
    "plt.show()"
   ]
  },
  {
   "cell_type": "code",
   "execution_count": null,
   "metadata": {},
   "outputs": [],
   "source": [
    "#求出各个区域的房价总和\n",
    "panyu_num = df[df['region'] == '番禺区']['totalPrice'].sum()\n",
    "tianhe_num = df[df['region'] == '天河区']['totalPrice'].sum()\n",
    "baiyun_num = df[df['region'] == '白云区']['totalPrice'].sum()\n",
    "haizhu_num = df[df['region'] == '海珠区']['totalPrice'].sum()\n",
    "huangpu_num = df[df['region'] == '黄埔区']['totalPrice'].sum()\n",
    "zengcheng_num = df[df['region'] == '增城区']['totalPrice'].sum()\n",
    "liwan_num = df[df['region'] == '荔湾区']['totalPrice'].sum()\n",
    "huadu_num = df[df['region'] == '花都区']['totalPrice'].sum()\n",
    "yuexiu_num = df[df['region'] == '越秀区']['totalPrice'].sum()\n",
    "conghua_num = df[df['region'] == '从化区']['totalPrice'].sum()\n",
    "nansha_num = df[df['region'] == '南沙区']['totalPrice'].sum()"
   ]
  },
  {
   "cell_type": "code",
   "execution_count": null,
   "metadata": {},
   "outputs": [],
   "source": [
    "#求出各地区房价平均值\n",
    "panyu_avg = int(panyu_num / region_num['番禺区'])\n",
    "tianhe_avg = int(tianhe_num / region_num['天河区'])\n",
    "baiyun_avg = int(baiyun_num / region_num['白云区'])\n",
    "haizhu_avg = int(haizhu_num / region_num['海珠区'])\n",
    "huangpu_avg = int(huangpu_num / region_num['黄埔区'])\n",
    "zengcheng_avg = int(zengcheng_num / region_num['增城区'])\n",
    "liwan_avg = int(liwan_num / region_num['荔湾区'])\n",
    "huadu_avg = int(huadu_num / region_num['花都区'])\n",
    "yuexiu_avg = int(yuexiu_num / region_num['越秀区'])\n",
    "conghua_avg = int(conghua_num / region_num['从化区'])\n",
    "nansha_avg = int(nansha_num / region_num['南沙区'])"
   ]
  },
  {
   "cell_type": "markdown",
   "metadata": {},
   "source": [
    "## 查看各区域房源数量和房价对比"
   ]
  },
  {
   "cell_type": "code",
   "execution_count": null,
   "metadata": {
    "scrolled": false
   },
   "outputs": [],
   "source": [
    "#查看区域房源和平均房价关系\n",
    "x = region_num.index.tolist()\n",
    "a = region_num.values.tolist()\n",
    "b = [panyu_avg, tianhe_avg, baiyun_avg, haizhu_avg, huangpu_avg, zengcheng_avg, liwan_avg, huadu_avg, yuexiu_avg, conghua_avg, nansha_avg]\n",
    "bar = (Bar()\n",
    "      .add_xaxis(x)\n",
    "      .add_yaxis('广州各区域房源数量', a))\n",
    "line = (Line(init_opts=opts.InitOpts(theme = ThemeType.SHINE))\n",
    "       .add_xaxis(x)\n",
    "       .add_yaxis('广州各区域房源平均价格（万）', b, markline_opts=opts.MarkLineOpts(data = [opts.MarkLineItem(type_=\"average\")]))\n",
    "       .set_global_opts(title_opts=opts.TitleOpts(title=\"广州二手房区域平均价格情况\",subtitle=\"测试\")))\n",
    "\n",
    "bar.overlap(line)\n",
    "bar.render_notebook()"
   ]
  },
  {
   "cell_type": "markdown",
   "metadata": {},
   "source": [
    "## 查看广州二手房分布区域图"
   ]
  },
  {
   "cell_type": "code",
   "execution_count": null,
   "metadata": {
    "scrolled": false
   },
   "outputs": [],
   "source": [
    "#查看二手房源区域分布热力图\n",
    "ah_data = data_region_pair\n",
    "map_v = (Map()\n",
    "        .add('地区', ah_data, \"广州\")\n",
    "        .set_global_opts(\n",
    "            title_opts=opts.TitleOpts(title=\"广州二手房源数量分布图\"),\n",
    "            visualmap_opts=opts.VisualMapOpts(max_=14000, is_piecewise=True),\n",
    "        )\n",
    "    )\n",
    "map_v.render_notebook()"
   ]
  },
  {
   "cell_type": "code",
   "execution_count": null,
   "metadata": {
    "scrolled": false
   },
   "outputs": [],
   "source": [
    "#载入整理的房源经纬度\n",
    "data_house = pd.read_excel(r'./output.xlsx')"
   ]
  },
  {
   "cell_type": "code",
   "execution_count": null,
   "metadata": {},
   "outputs": [],
   "source": [
    "#统计每个小区有多少房源\n",
    "data_house_num = data_house['house_area'].value_counts()\n",
    "data_house_num"
   ]
  },
  {
   "cell_type": "code",
   "execution_count": null,
   "metadata": {},
   "outputs": [],
   "source": [
    "#转化为列表形式\n",
    "data_house_pair = [list(z) for z in zip(data_house_num.index.tolist(), data_house_num.values.tolist())]\n",
    "data_house_pair"
   ]
  },
  {
   "cell_type": "code",
   "execution_count": null,
   "metadata": {},
   "outputs": [],
   "source": [
    "# 对数据进行处理，并将重复值去除，重置引索\n",
    "data_house = data_house.drop_duplicates().reset_index(drop = True)\n",
    "data_house"
   ]
  },
  {
   "cell_type": "code",
   "execution_count": null,
   "metadata": {},
   "outputs": [],
   "source": [
    "#增加一个新列，用于存放每个小区房源数量\n",
    "data_house['sum'] = ''\n",
    "data_house"
   ]
  },
  {
   "cell_type": "code",
   "execution_count": null,
   "metadata": {},
   "outputs": [],
   "source": [
    "#将每个小区房源数量存放到相应的sum列中\n",
    "for i in range(len(data_house_pair)):\n",
    "    for z in range(len(data_house)):\n",
    "        if data_house_pair[i][0] == data_house['house_area'][z]:\n",
    "            data_house.loc[z, 'sum'] = data_house_pair[i][1]\n",
    "data_house"
   ]
  },
  {
   "cell_type": "code",
   "execution_count": null,
   "metadata": {
    "scrolled": false
   },
   "outputs": [],
   "source": [
    "#显示广州小区分布图，根据小区经纬度生成数据。\n",
    "geo = Geo().add_schema(maptype='广州')\n",
    "geo.set_global_opts(title_opts=opts.TitleOpts(title=\"广州二手房源分布图\"))\n",
    "for i in range(len(data_house)):\n",
    "    geo.add_coordinate(data_house['house_area'][i], data_house['longitude'][i], data_house['latitude'][i])\n",
    "    data_pair = [(data_house['house_area'][i], data_house['sum'][i])]\n",
    "    geo.add('',data_pair, type_=GeoType.EFFECT_SCATTER, symbol_size=20)    # 可尝试把''里面内容替换成data_house['house_area'][i],慎重。。\n",
    "    geo.set_series_opts(label_opts=opts.LabelOpts(is_show=False))\n",
    "    \n",
    "\n",
    "geo.render_notebook()"
   ]
  },
  {
   "cell_type": "code",
   "execution_count": null,
   "metadata": {},
   "outputs": [],
   "source": []
  }
 ],
 "metadata": {
  "kernelspec": {
   "display_name": "Python 3",
   "language": "python",
   "name": "python3"
  },
  "language_info": {
   "codemirror_mode": {
    "name": "ipython",
    "version": 3
   },
   "file_extension": ".py",
   "mimetype": "text/x-python",
   "name": "python",
   "nbconvert_exporter": "python",
   "pygments_lexer": "ipython3",
   "version": "3.8.8"
  }
 },
 "nbformat": 4,
 "nbformat_minor": 4
}
